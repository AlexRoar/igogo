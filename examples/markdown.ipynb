{
 "cells": [
  {
   "cell_type": "code",
   "execution_count": 1,
   "id": "f4dc8e6c-5ff7-4358-99de-0df68cb0e500",
   "metadata": {},
   "outputs": [
    {
     "data": {
      "text/html": [
       "\n",
       "    <style>\n",
       "        div.output_text { padding: 0; }\n",
       "        div.output_text pre:empty { padding: 0; }\n",
       "    </style>\n",
       "    "
      ]
     },
     "metadata": {},
     "output_type": "display_data"
    }
   ],
   "source": [
    "import igogo\n",
    "\n",
    "@igogo.job(kind=\"markdown\")\n",
    "def hello_world(name):\n",
    "    for i in range(3):\n",
    "        print(\"**Hello**, ~world~ *from*\", name, end='<br>')\n",
    "        variable = 123\n",
    "        print(f\"markdown is nice: $e = mc^2,\\;\\; L(x, y) = \\ldots\\;\\; {variable = }$\", end='<br>')\n",
    "        \n",
    "        # allows other jobs to run while asleep\n",
    "        # also can be `igogo.yielder()`\n",
    "        igogo.sleep(1)  \n",
    "    return name"
   ]
  },
  {
   "cell_type": "code",
   "execution_count": 2,
   "id": "aca7cbfc-5e08-469d-8f5b-98ffb4ceb8f7",
   "metadata": {},
   "outputs": [
    {
     "data": {
      "text/plain": []
     },
     "metadata": {},
     "output_type": "display_data"
    },
    {
     "data": {
      "text/markdown": [
       "**Hello**, ~world~ *from* one<br>markdown is nice: $e = mc^2,\\;\\; L(x, y) = \\ldots\\;\\; variable = 123$<br>**Hello**, ~world~ *from* one<br>markdown is nice: $e = mc^2,\\;\\; L(x, y) = \\ldots\\;\\; variable = 123$<br>**Hello**, ~world~ *from* one<br>markdown is nice: $e = mc^2,\\;\\; L(x, y) = \\ldots\\;\\; variable = 123$<br>"
      ]
     },
     "metadata": {},
     "output_type": "display_data"
    },
    {
     "data": {},
     "metadata": {},
     "output_type": "display_data"
    },
    {
     "data": {},
     "metadata": {},
     "output_type": "display_data"
    },
    {
     "data": {
      "text/markdown": [
       "**Hello**, ~world~ *from* two<br>markdown is nice: $e = mc^2,\\;\\; L(x, y) = \\ldots\\;\\; variable = 123$<br>**Hello**, ~world~ *from* two<br>markdown is nice: $e = mc^2,\\;\\; L(x, y) = \\ldots\\;\\; variable = 123$<br>**Hello**, ~world~ *from* two<br>markdown is nice: $e = mc^2,\\;\\; L(x, y) = \\ldots\\;\\; variable = 123$<br>"
      ]
     },
     "metadata": {},
     "output_type": "display_data"
    },
    {
     "data": {},
     "metadata": {},
     "output_type": "display_data"
    },
    {
     "data": {},
     "metadata": {},
     "output_type": "display_data"
    }
   ],
   "source": [
    "hello_world(\"one\"), hello_world(\"two\");"
   ]
  },
  {
   "cell_type": "code",
   "execution_count": 3,
   "id": "21b21e5b-e97f-4f2f-ba82-b5dda4f30942",
   "metadata": {},
   "outputs": [
    {
     "data": {
      "text/plain": []
     },
     "metadata": {},
     "output_type": "display_data"
    },
    {
     "data": {
      "text/markdown": [
       "**Hello**, ~world~ *from* three<br>markdown is nice: $e = mc^2,\\;\\; L(x, y) = \\ldots\\;\\; variable = 123$<br>**Hello**, ~world~ *from* three<br>markdown is nice: $e = mc^2,\\;\\; L(x, y) = \\ldots\\;\\; variable = 123$<br>**Hello**, ~world~ *from* three<br>markdown is nice: $e = mc^2,\\;\\; L(x, y) = \\ldots\\;\\; variable = 123$<br>"
      ]
     },
     "metadata": {},
     "output_type": "display_data"
    },
    {
     "data": {},
     "metadata": {},
     "output_type": "display_data"
    },
    {
     "data": {},
     "metadata": {},
     "output_type": "display_data"
    }
   ],
   "source": [
    "hello_world(\"three\");"
   ]
  },
  {
   "cell_type": "code",
   "execution_count": null,
   "id": "673a9109-076e-4518-a30b-e0a835284789",
   "metadata": {},
   "outputs": [],
   "source": []
  }
 ],
 "metadata": {
  "kernelspec": {
   "display_name": "Python 3 (ipykernel)",
   "language": "python",
   "name": "python3"
  },
  "language_info": {
   "codemirror_mode": {
    "name": "ipython",
    "version": 3
   },
   "file_extension": ".py",
   "mimetype": "text/x-python",
   "name": "python",
   "nbconvert_exporter": "python",
   "pygments_lexer": "ipython3",
   "version": "3.10.8"
  }
 },
 "nbformat": 4,
 "nbformat_minor": 5
}
